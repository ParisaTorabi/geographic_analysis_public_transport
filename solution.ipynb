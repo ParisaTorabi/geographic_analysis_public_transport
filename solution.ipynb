{
 "cells": [
  {
   "cell_type": "markdown",
   "metadata": {},
   "source": [
    "# Geographic analysis of public transportation and identifying poorly-covered areas\n",
    "\n",
    "## Reading and handling population data\n",
    "\n",
    "I start this task by loading and looking at the population data. "
   ]
  },
  {
   "cell_type": "code",
   "execution_count": 1,
   "metadata": {},
   "outputs": [],
   "source": [
    "%load_ext autoreload\n",
    "%autoreload 2"
   ]
  },
  {
   "cell_type": "code",
   "execution_count": 2,
   "metadata": {},
   "outputs": [],
   "source": [
    "import pandas as pd\n",
    "import geopandas as gpd\n",
    "\n",
    "from visualization import visualize_pop_stops,  visualize_clusters, visualize_pop_reach\n",
    "from utils import cluster_population, create_reach_area\n",
    "import os"
   ]
  },
  {
   "cell_type": "code",
   "execution_count": 3,
   "metadata": {},
   "outputs": [],
   "source": [
    "population_file = \"bergen_pop.csv\"\n",
    "Bergen_pop_data = pd.read_csv(population_file)"
   ]
  },
  {
   "cell_type": "code",
   "execution_count": 4,
   "metadata": {},
   "outputs": [
    {
     "data": {
      "text/html": [
       "<div>\n",
       "<style scoped>\n",
       "    .dataframe tbody tr th:only-of-type {\n",
       "        vertical-align: middle;\n",
       "    }\n",
       "\n",
       "    .dataframe tbody tr th {\n",
       "        vertical-align: top;\n",
       "    }\n",
       "\n",
       "    .dataframe thead th {\n",
       "        text-align: right;\n",
       "    }\n",
       "</style>\n",
       "<table border=\"1\" class=\"dataframe\">\n",
       "  <thead>\n",
       "    <tr style=\"text-align: right;\">\n",
       "      <th></th>\n",
       "      <th>lat</th>\n",
       "      <th>lon</th>\n",
       "    </tr>\n",
       "  </thead>\n",
       "  <tbody>\n",
       "    <tr>\n",
       "      <th>count</th>\n",
       "      <td>62245.000000</td>\n",
       "      <td>62245.000000</td>\n",
       "    </tr>\n",
       "    <tr>\n",
       "      <th>mean</th>\n",
       "      <td>57.665381</td>\n",
       "      <td>8.086164</td>\n",
       "    </tr>\n",
       "    <tr>\n",
       "      <th>std</th>\n",
       "      <td>11.675506</td>\n",
       "      <td>11.939029</td>\n",
       "    </tr>\n",
       "    <tr>\n",
       "      <th>min</th>\n",
       "      <td>4.642126</td>\n",
       "      <td>4.665742</td>\n",
       "    </tr>\n",
       "    <tr>\n",
       "      <th>25%</th>\n",
       "      <td>60.041785</td>\n",
       "      <td>5.157376</td>\n",
       "    </tr>\n",
       "    <tr>\n",
       "      <th>50%</th>\n",
       "      <td>60.332330</td>\n",
       "      <td>5.316041</td>\n",
       "    </tr>\n",
       "    <tr>\n",
       "      <th>75%</th>\n",
       "      <td>60.469010</td>\n",
       "      <td>5.519587</td>\n",
       "    </tr>\n",
       "    <tr>\n",
       "      <th>max</th>\n",
       "      <td>60.914139</td>\n",
       "      <td>61.229829</td>\n",
       "    </tr>\n",
       "  </tbody>\n",
       "</table>\n",
       "</div>"
      ],
      "text/plain": [
       "                lat           lon\n",
       "count  62245.000000  62245.000000\n",
       "mean      57.665381      8.086164\n",
       "std       11.675506     11.939029\n",
       "min        4.642126      4.665742\n",
       "25%       60.041785      5.157376\n",
       "50%       60.332330      5.316041\n",
       "75%       60.469010      5.519587\n",
       "max       60.914139     61.229829"
      ]
     },
     "execution_count": 4,
     "metadata": {},
     "output_type": "execute_result"
    }
   ],
   "source": [
    "Bergen_pop_data.describe()"
   ]
  },
  {
   "cell_type": "markdown",
   "metadata": {},
   "source": [
    "Here I observe that there although there is no analysis done on the column \"Pop\", which makes me believe some cleaning and handling is in order. I also wanted to check the total population to have a sanity check of the data, with the public information such as the total population of Bergen municipality. But with *sum(Bergen_pop_data[\"Pop\"])*, I got the *TypeError: unsupported operand type(s) for +: 'int' and 'str'*, which means the data types for the population data is a mix of int and string, and we need to fix the data formats. \n",
    "\n",
    "For this purpose, I first tried  Bergen_pop_data[\"Pop\"] = Bergen_pop_data[\"Pop\"].astype(float), but it seems that in some cases, \",\" is used as decimal point, so I need to fix that first."
   ]
  },
  {
   "cell_type": "code",
   "execution_count": 5,
   "metadata": {},
   "outputs": [
    {
     "data": {
      "text/plain": [
       "560962.6999999688"
      ]
     },
     "execution_count": 5,
     "metadata": {},
     "output_type": "execute_result"
    }
   ],
   "source": [
    "Bergen_pop_data[\"Pop\"] = Bergen_pop_data[\"Pop\"].str.replace(\",\", \".\")\n",
    "\n",
    "Bergen_pop_data[\"Pop\"] = Bergen_pop_data[\"Pop\"].astype(float)\n",
    "sum(Bergen_pop_data[\"Pop\"])"
   ]
  },
  {
   "cell_type": "code",
   "execution_count": 6,
   "metadata": {},
   "outputs": [
    {
     "data": {
      "text/html": [
       "<div>\n",
       "<style scoped>\n",
       "    .dataframe tbody tr th:only-of-type {\n",
       "        vertical-align: middle;\n",
       "    }\n",
       "\n",
       "    .dataframe tbody tr th {\n",
       "        vertical-align: top;\n",
       "    }\n",
       "\n",
       "    .dataframe thead th {\n",
       "        text-align: right;\n",
       "    }\n",
       "</style>\n",
       "<table border=\"1\" class=\"dataframe\">\n",
       "  <thead>\n",
       "    <tr style=\"text-align: right;\">\n",
       "      <th></th>\n",
       "      <th>Pop</th>\n",
       "      <th>lat</th>\n",
       "      <th>lon</th>\n",
       "    </tr>\n",
       "  </thead>\n",
       "  <tbody>\n",
       "    <tr>\n",
       "      <th>count</th>\n",
       "      <td>62245.000000</td>\n",
       "      <td>62245.000000</td>\n",
       "      <td>62245.000000</td>\n",
       "    </tr>\n",
       "    <tr>\n",
       "      <th>mean</th>\n",
       "      <td>9.012173</td>\n",
       "      <td>57.665381</td>\n",
       "      <td>8.086164</td>\n",
       "    </tr>\n",
       "    <tr>\n",
       "      <th>std</th>\n",
       "      <td>18.723818</td>\n",
       "      <td>11.675506</td>\n",
       "      <td>11.939029</td>\n",
       "    </tr>\n",
       "    <tr>\n",
       "      <th>min</th>\n",
       "      <td>0.000000</td>\n",
       "      <td>4.642126</td>\n",
       "      <td>4.665742</td>\n",
       "    </tr>\n",
       "    <tr>\n",
       "      <th>25%</th>\n",
       "      <td>0.500000</td>\n",
       "      <td>60.041785</td>\n",
       "      <td>5.157376</td>\n",
       "    </tr>\n",
       "    <tr>\n",
       "      <th>50%</th>\n",
       "      <td>2.300000</td>\n",
       "      <td>60.332330</td>\n",
       "      <td>5.316041</td>\n",
       "    </tr>\n",
       "    <tr>\n",
       "      <th>75%</th>\n",
       "      <td>9.200000</td>\n",
       "      <td>60.469010</td>\n",
       "      <td>5.519587</td>\n",
       "    </tr>\n",
       "    <tr>\n",
       "      <th>max</th>\n",
       "      <td>387.300000</td>\n",
       "      <td>60.914139</td>\n",
       "      <td>61.229829</td>\n",
       "    </tr>\n",
       "  </tbody>\n",
       "</table>\n",
       "</div>"
      ],
      "text/plain": [
       "                Pop           lat           lon\n",
       "count  62245.000000  62245.000000  62245.000000\n",
       "mean       9.012173     57.665381      8.086164\n",
       "std       18.723818     11.675506     11.939029\n",
       "min        0.000000      4.642126      4.665742\n",
       "25%        0.500000     60.041785      5.157376\n",
       "50%        2.300000     60.332330      5.316041\n",
       "75%        9.200000     60.469010      5.519587\n",
       "max      387.300000     60.914139     61.229829"
      ]
     },
     "execution_count": 6,
     "metadata": {},
     "output_type": "execute_result"
    }
   ],
   "source": [
    "Bergen_pop_data.describe()"
   ]
  },
  {
   "cell_type": "markdown",
   "metadata": {},
   "source": [
    "This seems to have solved the problem with formatting, but now the results are not consistent with common knowledge. The total population of Bergen municipality is recorded 289330 on 1.1.2023 (Source: [Bergen kommune website](https://www.bergen.kommune.no/omkommunen/fakta-om-bergen/befolkning/folketall-per-1-januar-2023)), but the result of summation over population is 560962.6999999688. Now that the format is correct, we try to see if there are repetetive values, which causes this."
   ]
  },
  {
   "cell_type": "code",
   "execution_count": 7,
   "metadata": {},
   "outputs": [
    {
     "data": {
      "text/html": [
       "<div>\n",
       "<style scoped>\n",
       "    .dataframe tbody tr th:only-of-type {\n",
       "        vertical-align: middle;\n",
       "    }\n",
       "\n",
       "    .dataframe tbody tr th {\n",
       "        vertical-align: top;\n",
       "    }\n",
       "\n",
       "    .dataframe thead th {\n",
       "        text-align: right;\n",
       "    }\n",
       "</style>\n",
       "<table border=\"1\" class=\"dataframe\">\n",
       "  <thead>\n",
       "    <tr style=\"text-align: right;\">\n",
       "      <th></th>\n",
       "      <th>Pop</th>\n",
       "      <th>lat</th>\n",
       "      <th>lon</th>\n",
       "    </tr>\n",
       "  </thead>\n",
       "  <tbody>\n",
       "  </tbody>\n",
       "</table>\n",
       "</div>"
      ],
      "text/plain": [
       "Empty DataFrame\n",
       "Columns: [Pop, lat, lon]\n",
       "Index: []"
      ]
     },
     "execution_count": 7,
     "metadata": {},
     "output_type": "execute_result"
    }
   ],
   "source": [
    "Bergen_pop_data[Bergen_pop_data.duplicated(subset=[\"lat\", \"lon\"], keep=False)]"
   ]
  },
  {
   "cell_type": "markdown",
   "metadata": {},
   "source": [
    "It seems that there are no duplicate data points and for each pair of (lat, lon), only one value exists in the data set. Now, let's try visualizing this data and see if we can then figure out what is going on. I found the folium module that can be used to visualize this data."
   ]
  },
  {
   "cell_type": "markdown",
   "metadata": {},
   "source": [
    "## Visualization of population data"
   ]
  },
  {
   "cell_type": "code",
   "execution_count": 8,
   "metadata": {},
   "outputs": [],
   "source": [
    "vis_path = \"./visualization_files/\"\n",
    "if not os.path.exists(vis_path):\n",
    "    os.mkdir(vis_path)\n",
    "\n",
    "visualize_pop_stops(\n",
    "    pop_data=Bergen_pop_data,\n",
    "    save_filename=f\"{vis_path}1_population_map.html\",\n",
    "    circle_size_scale=50,\n",
    "    zoom=2,\n",
    ")"
   ]
  },
  {
   "cell_type": "markdown",
   "metadata": {},
   "source": [
    "When visualizing the data, I see that there are some data points that are not located in Bergen, or indeed Norway, but they seem to be located in the Arabian sea (also can be seen in *Population_map_raw.png*). This is obviously an error when considering Bergen population. Looking back at the results of data description, I see that the values of quartiles for lat and lon have huge jumps, meaning there are outliers in these values. Also, the minimum and maximum values for lat and lon are almost the same, which cannot be the case in Norway. So, I believe there are some irrelevant data points here, and I limit the values of lat and lon to some values that I checked manually on google maps. I also remove the points in which the population is recorded zero, to prevent non-informative data points from appearing in visualization."
   ]
  },
  {
   "cell_type": "code",
   "execution_count": 9,
   "metadata": {},
   "outputs": [],
   "source": [
    "Bergen_pop_data = Bergen_pop_data[\n",
    "    (Bergen_pop_data[\"lat\"] > 57)\n",
    "    & (Bergen_pop_data[\"lon\"] < 10)\n",
    "    & (Bergen_pop_data[\"Pop\"] > 0)\n",
    "]"
   ]
  },
  {
   "cell_type": "code",
   "execution_count": 10,
   "metadata": {},
   "outputs": [
    {
     "data": {
      "text/html": [
       "<div>\n",
       "<style scoped>\n",
       "    .dataframe tbody tr th:only-of-type {\n",
       "        vertical-align: middle;\n",
       "    }\n",
       "\n",
       "    .dataframe tbody tr th {\n",
       "        vertical-align: top;\n",
       "    }\n",
       "\n",
       "    .dataframe thead th {\n",
       "        text-align: right;\n",
       "    }\n",
       "</style>\n",
       "<table border=\"1\" class=\"dataframe\">\n",
       "  <thead>\n",
       "    <tr style=\"text-align: right;\">\n",
       "      <th></th>\n",
       "      <th>Pop</th>\n",
       "      <th>lat</th>\n",
       "      <th>lon</th>\n",
       "    </tr>\n",
       "  </thead>\n",
       "  <tbody>\n",
       "    <tr>\n",
       "      <th>count</th>\n",
       "      <td>55440.000000</td>\n",
       "      <td>55440.000000</td>\n",
       "      <td>55440.000000</td>\n",
       "    </tr>\n",
       "    <tr>\n",
       "      <th>mean</th>\n",
       "      <td>9.792469</td>\n",
       "      <td>60.291194</td>\n",
       "      <td>5.406069</td>\n",
       "    </tr>\n",
       "    <tr>\n",
       "      <th>std</th>\n",
       "      <td>19.288433</td>\n",
       "      <td>0.300043</td>\n",
       "      <td>0.431403</td>\n",
       "    </tr>\n",
       "    <tr>\n",
       "      <th>min</th>\n",
       "      <td>0.100000</td>\n",
       "      <td>59.615511</td>\n",
       "      <td>4.665742</td>\n",
       "    </tr>\n",
       "    <tr>\n",
       "      <th>25%</th>\n",
       "      <td>0.700000</td>\n",
       "      <td>60.147616</td>\n",
       "      <td>5.154577</td>\n",
       "    </tr>\n",
       "    <tr>\n",
       "      <th>50%</th>\n",
       "      <td>2.800000</td>\n",
       "      <td>60.344938</td>\n",
       "      <td>5.304548</td>\n",
       "    </tr>\n",
       "    <tr>\n",
       "      <th>75%</th>\n",
       "      <td>10.300000</td>\n",
       "      <td>60.473218</td>\n",
       "      <td>5.474634</td>\n",
       "    </tr>\n",
       "    <tr>\n",
       "      <th>max</th>\n",
       "      <td>387.300000</td>\n",
       "      <td>60.914139</td>\n",
       "      <td>7.419300</td>\n",
       "    </tr>\n",
       "  </tbody>\n",
       "</table>\n",
       "</div>"
      ],
      "text/plain": [
       "                Pop           lat           lon\n",
       "count  55440.000000  55440.000000  55440.000000\n",
       "mean       9.792469     60.291194      5.406069\n",
       "std       19.288433      0.300043      0.431403\n",
       "min        0.100000     59.615511      4.665742\n",
       "25%        0.700000     60.147616      5.154577\n",
       "50%        2.800000     60.344938      5.304548\n",
       "75%       10.300000     60.473218      5.474634\n",
       "max      387.300000     60.914139      7.419300"
      ]
     },
     "execution_count": 10,
     "metadata": {},
     "output_type": "execute_result"
    }
   ],
   "source": [
    "Bergen_pop_data.describe()"
   ]
  },
  {
   "cell_type": "markdown",
   "metadata": {},
   "source": [
    "Now the range of values in latitute and longitude seem reasonable and with far smaller value for standard deviation. I check again on the map to see if the problem is fixed."
   ]
  },
  {
   "cell_type": "code",
   "execution_count": 11,
   "metadata": {},
   "outputs": [],
   "source": [
    "visualize_pop_stops(\n",
    "    pop_data=Bergen_pop_data,\n",
    "    save_filename=f\"{vis_path}2_population_map_Vestland.html\",\n",
    "    circle_size_scale=50,\n",
    "    zoom=7,\n",
    ")"
   ]
  },
  {
   "cell_type": "markdown",
   "metadata": {},
   "source": [
    "Now the irrelevant data is removed, and I see only data points located in Vestland, in and around Bergen. I was still curious as to why the population count is much higher than that of Bergen kommune, but looking at the visualized map, it turns out that the data is given for much larger area than Bergen. It indeed covers large areas in Vestland. From what I see and using a map of districts in Vestland, the data includes the following districts: Nordhordland, Midhordland, Sunnhordland, Hardanger, and Voss, with the rough populations of $46000, 387000, 60000, 23000$, and $16000$, respectively. These numbers are from Wikipedia and mostly outdated, but in total they give the value $532000$, which is close enough to the summation of values in population after filtering out the irrelevant data, around $540212$, and means we can trust the quality of this data set now."
   ]
  },
  {
   "cell_type": "markdown",
   "metadata": {},
   "source": [
    "## Exploring the  Public Transport Stops data"
   ]
  },
  {
   "cell_type": "code",
   "execution_count": 12,
   "metadata": {},
   "outputs": [
    {
     "data": {
      "text/html": [
       "<div>\n",
       "<style scoped>\n",
       "    .dataframe tbody tr th:only-of-type {\n",
       "        vertical-align: middle;\n",
       "    }\n",
       "\n",
       "    .dataframe tbody tr th {\n",
       "        vertical-align: top;\n",
       "    }\n",
       "\n",
       "    .dataframe thead th {\n",
       "        text-align: right;\n",
       "    }\n",
       "</style>\n",
       "<table border=\"1\" class=\"dataframe\">\n",
       "  <thead>\n",
       "    <tr style=\"text-align: right;\">\n",
       "      <th></th>\n",
       "      <th>stop_id</th>\n",
       "      <th>stop_name</th>\n",
       "      <th>stop_lat</th>\n",
       "      <th>stop_lon</th>\n",
       "      <th>stop_desc</th>\n",
       "      <th>location_type</th>\n",
       "      <th>parent_station</th>\n",
       "      <th>wheelchair_boarding</th>\n",
       "      <th>vehicle_type</th>\n",
       "      <th>platform_code</th>\n",
       "    </tr>\n",
       "  </thead>\n",
       "  <tbody>\n",
       "    <tr>\n",
       "      <th>0</th>\n",
       "      <td>NSR:Quay:100022</td>\n",
       "      <td>Hope nord</td>\n",
       "      <td>60.790205</td>\n",
       "      <td>5.034928</td>\n",
       "      <td>NaN</td>\n",
       "      <td>NaN</td>\n",
       "      <td>NSR:StopPlace:6647</td>\n",
       "      <td>NaN</td>\n",
       "      <td>700</td>\n",
       "      <td>NaN</td>\n",
       "    </tr>\n",
       "    <tr>\n",
       "      <th>1</th>\n",
       "      <td>NSR:Quay:100023</td>\n",
       "      <td>Litlås sør</td>\n",
       "      <td>60.793368</td>\n",
       "      <td>5.026605</td>\n",
       "      <td>NaN</td>\n",
       "      <td>NaN</td>\n",
       "      <td>NSR:StopPlace:6649</td>\n",
       "      <td>NaN</td>\n",
       "      <td>700</td>\n",
       "      <td>NaN</td>\n",
       "    </tr>\n",
       "    <tr>\n",
       "      <th>2</th>\n",
       "      <td>NSR:Quay:100024</td>\n",
       "      <td>Hopsvågen</td>\n",
       "      <td>60.780293</td>\n",
       "      <td>5.041870</td>\n",
       "      <td>NaN</td>\n",
       "      <td>NaN</td>\n",
       "      <td>NSR:StopPlace:12520</td>\n",
       "      <td>NaN</td>\n",
       "      <td>700</td>\n",
       "      <td>NaN</td>\n",
       "    </tr>\n",
       "    <tr>\n",
       "      <th>3</th>\n",
       "      <td>NSR:Quay:100025</td>\n",
       "      <td>Sverresplassen</td>\n",
       "      <td>60.629467</td>\n",
       "      <td>6.424300</td>\n",
       "      <td>NaN</td>\n",
       "      <td>NaN</td>\n",
       "      <td>NSR:StopPlace:13222</td>\n",
       "      <td>NaN</td>\n",
       "      <td>700</td>\n",
       "      <td>NaN</td>\n",
       "    </tr>\n",
       "    <tr>\n",
       "      <th>4</th>\n",
       "      <td>NSR:Quay:100026</td>\n",
       "      <td>Sverresplassen</td>\n",
       "      <td>60.629552</td>\n",
       "      <td>6.424155</td>\n",
       "      <td>NaN</td>\n",
       "      <td>NaN</td>\n",
       "      <td>NSR:StopPlace:13222</td>\n",
       "      <td>NaN</td>\n",
       "      <td>700</td>\n",
       "      <td>NaN</td>\n",
       "    </tr>\n",
       "  </tbody>\n",
       "</table>\n",
       "</div>"
      ],
      "text/plain": [
       "           stop_id       stop_name   stop_lat  stop_lon stop_desc  \\\n",
       "0  NSR:Quay:100022       Hope nord  60.790205  5.034928       NaN   \n",
       "1  NSR:Quay:100023      Litlås sør  60.793368  5.026605       NaN   \n",
       "2  NSR:Quay:100024       Hopsvågen  60.780293  5.041870       NaN   \n",
       "3  NSR:Quay:100025  Sverresplassen  60.629467  6.424300       NaN   \n",
       "4  NSR:Quay:100026  Sverresplassen  60.629552  6.424155       NaN   \n",
       "\n",
       "   location_type       parent_station  wheelchair_boarding  vehicle_type  \\\n",
       "0            NaN   NSR:StopPlace:6647                  NaN           700   \n",
       "1            NaN   NSR:StopPlace:6649                  NaN           700   \n",
       "2            NaN  NSR:StopPlace:12520                  NaN           700   \n",
       "3            NaN  NSR:StopPlace:13222                  NaN           700   \n",
       "4            NaN  NSR:StopPlace:13222                  NaN           700   \n",
       "\n",
       "  platform_code  \n",
       "0           NaN  \n",
       "1           NaN  \n",
       "2           NaN  \n",
       "3           NaN  \n",
       "4           NaN  "
      ]
     },
     "execution_count": 12,
     "metadata": {},
     "output_type": "execute_result"
    }
   ],
   "source": [
    "stops_df = pd.read_csv(\"Bergen.stops/stops.txt\")\n",
    "stops_df.head()"
   ]
  },
  {
   "cell_type": "markdown",
   "metadata": {},
   "source": [
    "It seems that not all the columns of this data are relevant to the analysis here. I keep them for now and check for duplicate values when considering name, latitude, and longitude."
   ]
  },
  {
   "cell_type": "code",
   "execution_count": 13,
   "metadata": {},
   "outputs": [
    {
     "data": {
      "text/html": [
       "<div>\n",
       "<style scoped>\n",
       "    .dataframe tbody tr th:only-of-type {\n",
       "        vertical-align: middle;\n",
       "    }\n",
       "\n",
       "    .dataframe tbody tr th {\n",
       "        vertical-align: top;\n",
       "    }\n",
       "\n",
       "    .dataframe thead th {\n",
       "        text-align: right;\n",
       "    }\n",
       "</style>\n",
       "<table border=\"1\" class=\"dataframe\">\n",
       "  <thead>\n",
       "    <tr style=\"text-align: right;\">\n",
       "      <th></th>\n",
       "      <th>stop_id</th>\n",
       "      <th>stop_name</th>\n",
       "      <th>stop_lat</th>\n",
       "      <th>stop_lon</th>\n",
       "      <th>stop_desc</th>\n",
       "      <th>location_type</th>\n",
       "      <th>parent_station</th>\n",
       "      <th>wheelchair_boarding</th>\n",
       "      <th>vehicle_type</th>\n",
       "      <th>platform_code</th>\n",
       "    </tr>\n",
       "  </thead>\n",
       "  <tbody>\n",
       "    <tr>\n",
       "      <th>10379</th>\n",
       "      <td>NSR:StopPlace:29686</td>\n",
       "      <td>Aga snuplass</td>\n",
       "      <td>59.845585</td>\n",
       "      <td>5.249156</td>\n",
       "      <td>NaN</td>\n",
       "      <td>1.0</td>\n",
       "      <td>NaN</td>\n",
       "      <td>NaN</td>\n",
       "      <td>700</td>\n",
       "      <td>NaN</td>\n",
       "    </tr>\n",
       "    <tr>\n",
       "      <th>1876</th>\n",
       "      <td>NSR:Quay:51041</td>\n",
       "      <td>Aga snuplass</td>\n",
       "      <td>59.845585</td>\n",
       "      <td>5.249156</td>\n",
       "      <td>NaN</td>\n",
       "      <td>NaN</td>\n",
       "      <td>NSR:StopPlace:29686</td>\n",
       "      <td>NaN</td>\n",
       "      <td>700</td>\n",
       "      <td>NaN</td>\n",
       "    </tr>\n",
       "    <tr>\n",
       "      <th>11109</th>\n",
       "      <td>NSR:StopPlace:30464</td>\n",
       "      <td>Aker CCB</td>\n",
       "      <td>60.409200</td>\n",
       "      <td>5.006249</td>\n",
       "      <td>NaN</td>\n",
       "      <td>1.0</td>\n",
       "      <td>NaN</td>\n",
       "      <td>NaN</td>\n",
       "      <td>700</td>\n",
       "      <td>NaN</td>\n",
       "    </tr>\n",
       "    <tr>\n",
       "      <th>3174</th>\n",
       "      <td>NSR:Quay:52405</td>\n",
       "      <td>Aker CCB</td>\n",
       "      <td>60.409200</td>\n",
       "      <td>5.006249</td>\n",
       "      <td>NaN</td>\n",
       "      <td>NaN</td>\n",
       "      <td>NSR:StopPlace:30464</td>\n",
       "      <td>NaN</td>\n",
       "      <td>700</td>\n",
       "      <td>NaN</td>\n",
       "    </tr>\n",
       "    <tr>\n",
       "      <th>2757</th>\n",
       "      <td>NSR:Quay:51960</td>\n",
       "      <td>Algrøyna snuplass</td>\n",
       "      <td>60.359554</td>\n",
       "      <td>4.952502</td>\n",
       "      <td>NaN</td>\n",
       "      <td>NaN</td>\n",
       "      <td>NSR:StopPlace:30213</td>\n",
       "      <td>NaN</td>\n",
       "      <td>700</td>\n",
       "      <td>NaN</td>\n",
       "    </tr>\n",
       "    <tr>\n",
       "      <th>...</th>\n",
       "      <td>...</td>\n",
       "      <td>...</td>\n",
       "      <td>...</td>\n",
       "      <td>...</td>\n",
       "      <td>...</td>\n",
       "      <td>...</td>\n",
       "      <td>...</td>\n",
       "      <td>...</td>\n",
       "      <td>...</td>\n",
       "      <td>...</td>\n",
       "    </tr>\n",
       "    <tr>\n",
       "      <th>1559</th>\n",
       "      <td>NSR:Quay:50708</td>\n",
       "      <td>Øyero</td>\n",
       "      <td>59.992840</td>\n",
       "      <td>5.539733</td>\n",
       "      <td>NaN</td>\n",
       "      <td>NaN</td>\n",
       "      <td>NSR:StopPlace:29502</td>\n",
       "      <td>NaN</td>\n",
       "      <td>700</td>\n",
       "      <td>NaN</td>\n",
       "    </tr>\n",
       "    <tr>\n",
       "      <th>14382</th>\n",
       "      <td>NSR:StopPlace:33853</td>\n",
       "      <td>Øygarden ungdomsskule</td>\n",
       "      <td>60.516533</td>\n",
       "      <td>4.909741</td>\n",
       "      <td>NaN</td>\n",
       "      <td>1.0</td>\n",
       "      <td>NaN</td>\n",
       "      <td>NaN</td>\n",
       "      <td>700</td>\n",
       "      <td>NaN</td>\n",
       "    </tr>\n",
       "    <tr>\n",
       "      <th>9180</th>\n",
       "      <td>NSR:Quay:58590</td>\n",
       "      <td>Øygarden ungdomsskule</td>\n",
       "      <td>60.516533</td>\n",
       "      <td>4.909741</td>\n",
       "      <td>NaN</td>\n",
       "      <td>NaN</td>\n",
       "      <td>NSR:StopPlace:33853</td>\n",
       "      <td>NaN</td>\n",
       "      <td>700</td>\n",
       "      <td>NaN</td>\n",
       "    </tr>\n",
       "    <tr>\n",
       "      <th>14026</th>\n",
       "      <td>NSR:StopPlace:33490</td>\n",
       "      <td>Øystese skule</td>\n",
       "      <td>60.388240</td>\n",
       "      <td>6.198062</td>\n",
       "      <td>NaN</td>\n",
       "      <td>1.0</td>\n",
       "      <td>NaN</td>\n",
       "      <td>NaN</td>\n",
       "      <td>700</td>\n",
       "      <td>NaN</td>\n",
       "    </tr>\n",
       "    <tr>\n",
       "      <th>8520</th>\n",
       "      <td>NSR:Quay:57920</td>\n",
       "      <td>Øystese skule</td>\n",
       "      <td>60.388240</td>\n",
       "      <td>6.198062</td>\n",
       "      <td>NaN</td>\n",
       "      <td>NaN</td>\n",
       "      <td>NSR:StopPlace:33490</td>\n",
       "      <td>NaN</td>\n",
       "      <td>700</td>\n",
       "      <td>NaN</td>\n",
       "    </tr>\n",
       "  </tbody>\n",
       "</table>\n",
       "<p>1244 rows × 10 columns</p>\n",
       "</div>"
      ],
      "text/plain": [
       "                   stop_id              stop_name   stop_lat  stop_lon  \\\n",
       "10379  NSR:StopPlace:29686           Aga snuplass  59.845585  5.249156   \n",
       "1876        NSR:Quay:51041           Aga snuplass  59.845585  5.249156   \n",
       "11109  NSR:StopPlace:30464               Aker CCB  60.409200  5.006249   \n",
       "3174        NSR:Quay:52405               Aker CCB  60.409200  5.006249   \n",
       "2757        NSR:Quay:51960      Algrøyna snuplass  60.359554  4.952502   \n",
       "...                    ...                    ...        ...       ...   \n",
       "1559        NSR:Quay:50708                  Øyero  59.992840  5.539733   \n",
       "14382  NSR:StopPlace:33853  Øygarden ungdomsskule  60.516533  4.909741   \n",
       "9180        NSR:Quay:58590  Øygarden ungdomsskule  60.516533  4.909741   \n",
       "14026  NSR:StopPlace:33490          Øystese skule  60.388240  6.198062   \n",
       "8520        NSR:Quay:57920          Øystese skule  60.388240  6.198062   \n",
       "\n",
       "      stop_desc  location_type       parent_station  wheelchair_boarding  \\\n",
       "10379       NaN            1.0                  NaN                  NaN   \n",
       "1876        NaN            NaN  NSR:StopPlace:29686                  NaN   \n",
       "11109       NaN            1.0                  NaN                  NaN   \n",
       "3174        NaN            NaN  NSR:StopPlace:30464                  NaN   \n",
       "2757        NaN            NaN  NSR:StopPlace:30213                  NaN   \n",
       "...         ...            ...                  ...                  ...   \n",
       "1559        NaN            NaN  NSR:StopPlace:29502                  NaN   \n",
       "14382       NaN            1.0                  NaN                  NaN   \n",
       "9180        NaN            NaN  NSR:StopPlace:33853                  NaN   \n",
       "14026       NaN            1.0                  NaN                  NaN   \n",
       "8520        NaN            NaN  NSR:StopPlace:33490                  NaN   \n",
       "\n",
       "       vehicle_type platform_code  \n",
       "10379           700           NaN  \n",
       "1876            700           NaN  \n",
       "11109           700           NaN  \n",
       "3174            700           NaN  \n",
       "2757            700           NaN  \n",
       "...             ...           ...  \n",
       "1559            700           NaN  \n",
       "14382           700           NaN  \n",
       "9180            700           NaN  \n",
       "14026           700           NaN  \n",
       "8520            700           NaN  \n",
       "\n",
       "[1244 rows x 10 columns]"
      ]
     },
     "execution_count": 13,
     "metadata": {},
     "output_type": "execute_result"
    }
   ],
   "source": [
    "stops_df[\n",
    "    stops_df.duplicated(subset=[\"stop_name\", \"stop_lat\", \"stop_lon\"], keep=False)\n",
    "].sort_values(by=\"stop_name\")"
   ]
  },
  {
   "cell_type": "markdown",
   "metadata": {},
   "source": [
    "Here I notice that the combination of *stop_name, stop_lat, stop_lon* has duplicates in some cases, and each seem to appear twice. The *stop_id* and *location_type* are different for duplicate rows, and it seems that the row with ID stating with *NSR:StopPlace* is the *parent_station* for the one whose ID starts with *NSR:Quay*. I am not exatly sure how these two are related, but for this task, I believe as long as they are in the same location, we can discard duplicates and keep only one. Also, given the tasks, we only need to keep the name, latitude, and longitude of each stop. Thus, I will drop the other features."
   ]
  },
  {
   "cell_type": "code",
   "execution_count": 14,
   "metadata": {},
   "outputs": [],
   "source": [
    "stops_df = stops_df.drop_duplicates(\n",
    "    subset=[\"stop_name\", \"stop_lat\", \"stop_lon\"], keep=\"first\"\n",
    ")\n",
    "stops_df = stops_df[[\"stop_name\", \"stop_lat\", \"stop_lon\"]]"
   ]
  },
  {
   "cell_type": "markdown",
   "metadata": {},
   "source": [
    "Checking for missing values in each column:"
   ]
  },
  {
   "cell_type": "code",
   "execution_count": 15,
   "metadata": {},
   "outputs": [
    {
     "data": {
      "text/plain": [
       "stop_name    0\n",
       "stop_lat     0\n",
       "stop_lon     0\n",
       "dtype: int64"
      ]
     },
     "execution_count": 15,
     "metadata": {},
     "output_type": "execute_result"
    }
   ],
   "source": [
    "stops_df.isnull().sum()"
   ]
  },
  {
   "cell_type": "markdown",
   "metadata": {},
   "source": [
    "It appears to exist no missing values in the chosen features. Checking a general description of the data:"
   ]
  },
  {
   "cell_type": "code",
   "execution_count": 16,
   "metadata": {},
   "outputs": [
    {
     "data": {
      "text/html": [
       "<div>\n",
       "<style scoped>\n",
       "    .dataframe tbody tr th:only-of-type {\n",
       "        vertical-align: middle;\n",
       "    }\n",
       "\n",
       "    .dataframe tbody tr th {\n",
       "        vertical-align: top;\n",
       "    }\n",
       "\n",
       "    .dataframe thead th {\n",
       "        text-align: right;\n",
       "    }\n",
       "</style>\n",
       "<table border=\"1\" class=\"dataframe\">\n",
       "  <thead>\n",
       "    <tr style=\"text-align: right;\">\n",
       "      <th></th>\n",
       "      <th>stop_lat</th>\n",
       "      <th>stop_lon</th>\n",
       "    </tr>\n",
       "  </thead>\n",
       "  <tbody>\n",
       "    <tr>\n",
       "      <th>count</th>\n",
       "      <td>14084.000000</td>\n",
       "      <td>14084.000000</td>\n",
       "    </tr>\n",
       "    <tr>\n",
       "      <th>mean</th>\n",
       "      <td>60.321019</td>\n",
       "      <td>5.559716</td>\n",
       "    </tr>\n",
       "    <tr>\n",
       "      <th>std</th>\n",
       "      <td>0.323683</td>\n",
       "      <td>0.502514</td>\n",
       "    </tr>\n",
       "    <tr>\n",
       "      <th>min</th>\n",
       "      <td>59.394633</td>\n",
       "      <td>4.714310</td>\n",
       "    </tr>\n",
       "    <tr>\n",
       "      <th>25%</th>\n",
       "      <td>60.155222</td>\n",
       "      <td>5.227094</td>\n",
       "    </tr>\n",
       "    <tr>\n",
       "      <th>50%</th>\n",
       "      <td>60.368126</td>\n",
       "      <td>5.387175</td>\n",
       "    </tr>\n",
       "    <tr>\n",
       "      <th>75%</th>\n",
       "      <td>60.566246</td>\n",
       "      <td>5.778137</td>\n",
       "    </tr>\n",
       "    <tr>\n",
       "      <th>max</th>\n",
       "      <td>61.174890</td>\n",
       "      <td>8.205862</td>\n",
       "    </tr>\n",
       "  </tbody>\n",
       "</table>\n",
       "</div>"
      ],
      "text/plain": [
       "           stop_lat      stop_lon\n",
       "count  14084.000000  14084.000000\n",
       "mean      60.321019      5.559716\n",
       "std        0.323683      0.502514\n",
       "min       59.394633      4.714310\n",
       "25%       60.155222      5.227094\n",
       "50%       60.368126      5.387175\n",
       "75%       60.566246      5.778137\n",
       "max       61.174890      8.205862"
      ]
     },
     "execution_count": 16,
     "metadata": {},
     "output_type": "execute_result"
    }
   ],
   "source": [
    "stops_df.describe()"
   ]
  },
  {
   "cell_type": "markdown",
   "metadata": {},
   "source": [
    "Now one of the two duplicate rows have been removed for each combination of *'stop_name','stop_lat', 'stop_lon'*, and the latitude and longitude of the stops are also in reasonable ranges."
   ]
  },
  {
   "cell_type": "markdown",
   "metadata": {},
   "source": [
    "## Visualization of Stops on map"
   ]
  },
  {
   "cell_type": "code",
   "execution_count": 17,
   "metadata": {},
   "outputs": [],
   "source": [
    "visualize_pop_stops(\n",
    "    save_filename=f\"{vis_path}3_public_transport_stops_map.html\",\n",
    "    zoom=7,\n",
    "    stops_data=stops_df,\n",
    ")"
   ]
  },
  {
   "cell_type": "markdown",
   "metadata": {},
   "source": [
    "I see that there are stops outside the scope of population points that are given, and outside the whole Vestland region, but I don't see a big problem with keeping them for now."
   ]
  },
  {
   "cell_type": "markdown",
   "metadata": {},
   "source": [
    "## Overlap of Stops and Population\n",
    "\n",
    "The most straightforward thing would be to visualize stops and population in one figure. I use the same function, with both stops data and population data given."
   ]
  },
  {
   "cell_type": "code",
   "execution_count": 18,
   "metadata": {},
   "outputs": [],
   "source": [
    "visualize_pop_stops(\n",
    "    save_filename=f\"{vis_path}4_population_stops.html\",\n",
    "    zoom=7,\n",
    "    pop_data=Bergen_pop_data,\n",
    "    circle_size_scale=50,\n",
    "    stops_data=stops_df,\n",
    ")"
   ]
  },
  {
   "cell_type": "markdown",
   "metadata": {},
   "source": [
    "I see that the overlap between the population and stops seems acceptable in most central areas. However, there is population in the south which doesn't seem to be covered by public transportation. This may be due to lack of stops data in these points, because some of the population points are located outside the Vestland region, or due to lack of reachability in these areas. I have the same observation in the western area on the islands. We can investigate this further when the reach areas are determined and not_covered population is more clearly defined."
   ]
  },
  {
   "cell_type": "markdown",
   "metadata": {},
   "source": [
    "## Identifying the reach area\n",
    "\n",
    "For this task, I found the *shapely* library to define the reach area for each stop point and finally merge them into one polygon. The library has a method for each *point*, called *buffer*, but the measure is in degrees, because we are working with latitude and longitude. So, I will estimate the value in degrees equivalent to 500 meters."
   ]
  },
  {
   "cell_type": "code",
   "execution_count": 19,
   "metadata": {},
   "outputs": [],
   "source": [
    "eq_500meters = 500/111320"
   ]
  },
  {
   "cell_type": "code",
   "execution_count": 20,
   "metadata": {},
   "outputs": [],
   "source": [
    "\n",
    "stops_gdf = gpd.GeoDataFrame(\n",
    "    stops_df,\n",
    "    geometry=gpd.points_from_xy(stops_df[\"stop_lon\"], stops_df[\"stop_lat\"]),\n",
    ")\n",
    "stops_gdf.set_crs(epsg=4326)\n",
    "\n",
    "reach_area_gdf = create_reach_area(\n",
    "    stops=stops_gdf, buffer_degrees=eq_500meters\n",
    ")\n",
    "\n",
    "reach_area_gdf = reach_area_gdf.set_crs(epsg=4326)"
   ]
  },
  {
   "cell_type": "code",
   "execution_count": 21,
   "metadata": {},
   "outputs": [],
   "source": [
    "# reach_area_gdf.explore()"
   ]
  },
  {
   "cell_type": "markdown",
   "metadata": {},
   "source": [
    "The areas shown here look reasonable, so we continue the analysis with the *reach_area_gdf* from the above."
   ]
  },
  {
   "cell_type": "markdown",
   "metadata": {},
   "source": [
    "## Visualization of reach areas with population\n",
    "\n",
    "We want to see the overlap of reach areas and population points. A function is defined for this purpose."
   ]
  },
  {
   "cell_type": "code",
   "execution_count": 22,
   "metadata": {},
   "outputs": [],
   "source": [
    "visualize_pop_reach(\n",
    "    save_filename=f\"{vis_path}5_reach_population.html\",\n",
    "    reach_area_gdf=reach_area_gdf,\n",
    "    pop_data=Bergen_pop_data,\n",
    "    circle_size_scale=50,\n",
    ")"
   ]
  },
  {
   "cell_type": "markdown",
   "metadata": {},
   "source": [
    "## Identifying the areas not covered by public transportation stops\n",
    "\n",
    "I first convert the population data to a Geopandas Dataframe, in order to be able to use the capabilities of the *sjoin* method. Two versions of this function are used: the first one enables us to find not covered population using the option *within*, and the second allows us to have the covered population in a separate Dataframe.  "
   ]
  },
  {
   "cell_type": "code",
   "execution_count": 23,
   "metadata": {},
   "outputs": [],
   "source": [
    "population_gdf = gpd.GeoDataFrame(\n",
    "    Bergen_pop_data,\n",
    "    geometry=gpd.points_from_xy(Bergen_pop_data[\"lon\"], Bergen_pop_data[\"lat\"]),\n",
    ")\n",
    "population_gdf = population_gdf.set_crs(epsg=4326)\n",
    "\n",
    "covered_population = gpd.sjoin(population_gdf, reach_area_gdf, how=\"left\", predicate=\"within\")\n",
    "only_covered_population = gpd.sjoin(population_gdf, reach_area_gdf, how=\"inner\")\n",
    "not_covered_population = population_gdf[covered_population[\"index_right\"].isna()]"
   ]
  },
  {
   "cell_type": "markdown",
   "metadata": {},
   "source": [
    "I use the same function with both dataframes: the covered population and the not_covered population, to make sure that the covered population points are indeed located within the reach area and the not covered population lie outside the reach area. "
   ]
  },
  {
   "cell_type": "code",
   "execution_count": 24,
   "metadata": {},
   "outputs": [],
   "source": [
    "visualize_pop_reach(\n",
    "    save_filename=f\"{vis_path}6_reach_covered_population.html\",\n",
    "    reach_area_gdf=reach_area_gdf,\n",
    "    pop_data=only_covered_population,\n",
    "    circle_size_scale=50,\n",
    ")\n",
    "visualize_pop_reach(\n",
    "    save_filename=f\"{vis_path}7_reach_not_covered_population.html\",\n",
    "    reach_area_gdf=reach_area_gdf,\n",
    "    pop_data=not_covered_population,\n",
    "    circle_size_scale=50,\n",
    ")"
   ]
  },
  {
   "cell_type": "markdown",
   "metadata": {},
   "source": [
    "I see this is the case.\n",
    "\n",
    "To analyze the covered and not-covered populations, we can first look at the total population that lives within 500 meters of the public transportation, and consider what percentage of the total recorded population lies in this category:"
   ]
  },
  {
   "cell_type": "code",
   "execution_count": 25,
   "metadata": {},
   "outputs": [
    {
     "name": "stdout",
     "output_type": "stream",
     "text": [
      "The total population covered by the public transport is 424215.\n",
      "This accounts for 78.14% of the population in the reported area.\n"
     ]
    }
   ],
   "source": [
    "covered_pop = only_covered_population[\"Pop\"].sum()\n",
    "total_pop = Bergen_pop_data[\"Pop\"].sum()\n",
    "print(f\"The total population covered by the public transport is {int(covered_pop)}.\")\n",
    "print(f\"This accounts for {100*(covered_pop/total_pop):.2f}% of the population in the reported area.\")"
   ]
  },
  {
   "cell_type": "markdown",
   "metadata": {},
   "source": [
    "From the figures, I also observe that there is a good deal of coverage within the city center, but interestingly, there exists a dense population right in the middle of city center which remains not covered. It seems that most of these areas are on the mountains, specifically Fløyen. There is a funicular called Fløibanen that can be used here, but it is not part of public transportation system and thus not recorded here. Also, the trip frequency of Fløibanen can make it unrealistic as a permanent mode of transportation."
   ]
  },
  {
   "cell_type": "markdown",
   "metadata": {},
   "source": [
    "## Identifying clusters of not covered population\n",
    "\n",
    "To determine the values for *eps* and *min_samples*, I did some trial and errors with the clustering function, and check how reasonable the clusters look on the map, the number of clusters and the proportion of data points recognized as noise. I believe under $20\\%$ of unclassifies/noise data should be acceptable, if this population is scattered. I also use the population of each point as *sample_weight* in *fit_predict* method."
   ]
  },
  {
   "cell_type": "code",
   "execution_count": 26,
   "metadata": {},
   "outputs": [],
   "source": [
    "clusters = cluster_population(pop_data=not_covered_population, eps=0.0001, min_samples=10)\n",
    "\n",
    "not_covered_population = not_covered_population.assign(cluster = clusters)"
   ]
  },
  {
   "cell_type": "markdown",
   "metadata": {},
   "source": [
    "Removing the data points recognized as noise, and checking the proportion of clustered data, these values for the parameters seem fine."
   ]
  },
  {
   "cell_type": "code",
   "execution_count": 27,
   "metadata": {},
   "outputs": [
    {
     "name": "stdout",
     "output_type": "stream",
     "text": [
      "0.8616342571326494\n"
     ]
    },
    {
     "data": {
      "text/plain": [
       "637"
      ]
     },
     "execution_count": 27,
     "metadata": {},
     "output_type": "execute_result"
    }
   ],
   "source": [
    "clustered_not_covered_population = not_covered_population[not_covered_population[\"cluster\"] > -1]\n",
    "print(len(clustered_not_covered_population)/len(not_covered_population))\n",
    "n_clusters = clusters.max()+1\n",
    "n_clusters"
   ]
  },
  {
   "cell_type": "markdown",
   "metadata": {},
   "source": [
    "Let us see how it looks on the map:"
   ]
  },
  {
   "cell_type": "code",
   "execution_count": 28,
   "metadata": {},
   "outputs": [],
   "source": [
    "\n",
    "visualize_clusters(\n",
    "    save_filename=f\"{vis_path}8_clusters.html\",\n",
    "    pop_data=clustered_not_covered_population,\n",
    "    circle_size_scale=50,\n",
    "    n_clusters = n_clusters\n",
    ")"
   ]
  },
  {
   "cell_type": "markdown",
   "metadata": {},
   "source": [
    "From this figure, it can be seen that most of the not covered clusters lie on the smaller towns outside Bergen or on the islands in the west of Bergen. I would like to focus more on the most populated clusters and see where they are located: "
   ]
  },
  {
   "cell_type": "code",
   "execution_count": 29,
   "metadata": {},
   "outputs": [],
   "source": [
    "most_populated = (\n",
    "    clustered_not_covered_population.groupby(\"cluster\")\n",
    "    .agg({\"Pop\": \"sum\", \"lat\": \"mean\", \"lon\": \"mean\"})\n",
    "    .sort_values(by=\"Pop\", ascending=False)\n",
    ")\n",
    "largest_clusters = most_populated[:10].index"
   ]
  },
  {
   "cell_type": "code",
   "execution_count": 30,
   "metadata": {},
   "outputs": [],
   "source": [
    "most_populated_not_covered = clustered_not_covered_population[\n",
    "    clustered_not_covered_population[\"cluster\"].isin(largest_clusters)\n",
    "]"
   ]
  },
  {
   "cell_type": "code",
   "execution_count": 31,
   "metadata": {},
   "outputs": [],
   "source": [
    "visualize_clusters(\n",
    "    save_filename=f\"{vis_path}9_ten_largest_clusters.html\",\n",
    "    pop_data=most_populated_not_covered,\n",
    "    circle_size_scale=50,\n",
    ")"
   ]
  },
  {
   "cell_type": "code",
   "execution_count": 32,
   "metadata": {},
   "outputs": [],
   "source": [
    "top_ten_clusters = most_populated[:10]"
   ]
  },
  {
   "cell_type": "markdown",
   "metadata": {},
   "source": [
    "From the data from the above, I identified the 10 most populated not covered areas in Bergen. They can be seen in the following dataframe and with the average latitude and longitude, can be easily identified using a map. We might be able to consider them as prioritized when there is a decision about increasing the reachability of public transportation. "
   ]
  },
  {
   "cell_type": "code",
   "execution_count": 33,
   "metadata": {},
   "outputs": [
    {
     "data": {
      "text/html": [
       "<div>\n",
       "<style scoped>\n",
       "    .dataframe tbody tr th:only-of-type {\n",
       "        vertical-align: middle;\n",
       "    }\n",
       "\n",
       "    .dataframe tbody tr th {\n",
       "        vertical-align: top;\n",
       "    }\n",
       "\n",
       "    .dataframe thead th {\n",
       "        text-align: right;\n",
       "    }\n",
       "</style>\n",
       "<table border=\"1\" class=\"dataframe\">\n",
       "  <thead>\n",
       "    <tr style=\"text-align: right;\">\n",
       "      <th></th>\n",
       "      <th>Pop</th>\n",
       "      <th>lat</th>\n",
       "      <th>lon</th>\n",
       "    </tr>\n",
       "    <tr>\n",
       "      <th>cluster</th>\n",
       "      <th></th>\n",
       "      <th></th>\n",
       "      <th></th>\n",
       "    </tr>\n",
       "  </thead>\n",
       "  <tbody>\n",
       "    <tr>\n",
       "      <th>70</th>\n",
       "      <td>9611.6</td>\n",
       "      <td>60.310080</td>\n",
       "      <td>5.334411</td>\n",
       "    </tr>\n",
       "    <tr>\n",
       "      <th>7</th>\n",
       "      <td>6948.8</td>\n",
       "      <td>60.312782</td>\n",
       "      <td>5.236010</td>\n",
       "    </tr>\n",
       "    <tr>\n",
       "      <th>36</th>\n",
       "      <td>5955.5</td>\n",
       "      <td>60.803673</td>\n",
       "      <td>5.039145</td>\n",
       "    </tr>\n",
       "    <tr>\n",
       "      <th>13</th>\n",
       "      <td>4879.3</td>\n",
       "      <td>59.650816</td>\n",
       "      <td>6.360584</td>\n",
       "    </tr>\n",
       "    <tr>\n",
       "      <th>11</th>\n",
       "      <td>4106.0</td>\n",
       "      <td>60.440484</td>\n",
       "      <td>5.134359</td>\n",
       "    </tr>\n",
       "    <tr>\n",
       "      <th>68</th>\n",
       "      <td>3709.4</td>\n",
       "      <td>59.764479</td>\n",
       "      <td>5.494526</td>\n",
       "    </tr>\n",
       "    <tr>\n",
       "      <th>34</th>\n",
       "      <td>2747.9</td>\n",
       "      <td>60.175118</td>\n",
       "      <td>5.448380</td>\n",
       "    </tr>\n",
       "    <tr>\n",
       "      <th>53</th>\n",
       "      <td>2537.2</td>\n",
       "      <td>60.407853</td>\n",
       "      <td>5.344926</td>\n",
       "    </tr>\n",
       "    <tr>\n",
       "      <th>6</th>\n",
       "      <td>1807.3</td>\n",
       "      <td>60.456943</td>\n",
       "      <td>5.205810</td>\n",
       "    </tr>\n",
       "    <tr>\n",
       "      <th>39</th>\n",
       "      <td>1764.9</td>\n",
       "      <td>60.493511</td>\n",
       "      <td>5.373318</td>\n",
       "    </tr>\n",
       "  </tbody>\n",
       "</table>\n",
       "</div>"
      ],
      "text/plain": [
       "            Pop        lat       lon\n",
       "cluster                             \n",
       "70       9611.6  60.310080  5.334411\n",
       "7        6948.8  60.312782  5.236010\n",
       "36       5955.5  60.803673  5.039145\n",
       "13       4879.3  59.650816  6.360584\n",
       "11       4106.0  60.440484  5.134359\n",
       "68       3709.4  59.764479  5.494526\n",
       "34       2747.9  60.175118  5.448380\n",
       "53       2537.2  60.407853  5.344926\n",
       "6        1807.3  60.456943  5.205810\n",
       "39       1764.9  60.493511  5.373318"
      ]
     },
     "execution_count": 33,
     "metadata": {},
     "output_type": "execute_result"
    }
   ],
   "source": [
    "top_ten_clusters"
   ]
  },
  {
   "cell_type": "markdown",
   "metadata": {},
   "source": [
    "## Future work\n",
    "\n",
    "There is a lot more that can be done here. For example, the reach area can be thought out more carefully, considering different values as distance and performing the analysis to compare. We can also consider the walking time to the stops, including different difficulty to go uphill and downhill. The clusters can also be considered with more care, especially when determining the *eps* parameter. "
   ]
  }
 ],
 "metadata": {
  "kernelspec": {
   "display_name": "asistobe",
   "language": "python",
   "name": "python3"
  },
  "language_info": {
   "codemirror_mode": {
    "name": "ipython",
    "version": 3
   },
   "file_extension": ".py",
   "mimetype": "text/x-python",
   "name": "python",
   "nbconvert_exporter": "python",
   "pygments_lexer": "ipython3",
   "version": "3.11.0"
  }
 },
 "nbformat": 4,
 "nbformat_minor": 2
}
